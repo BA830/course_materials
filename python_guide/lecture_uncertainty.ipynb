{
 "cells": [
  {
   "cell_type": "code",
   "execution_count": 1,
   "metadata": {},
   "outputs": [
    {
     "data": {
      "text/html": [
       "<div>\n",
       "<style scoped>\n",
       "    .dataframe tbody tr th:only-of-type {\n",
       "        vertical-align: middle;\n",
       "    }\n",
       "\n",
       "    .dataframe tbody tr th {\n",
       "        vertical-align: top;\n",
       "    }\n",
       "\n",
       "    .dataframe thead th {\n",
       "        text-align: right;\n",
       "    }\n",
       "</style>\n",
       "<table border=\"1\" class=\"dataframe\">\n",
       "  <thead>\n",
       "    <tr style=\"text-align: right;\">\n",
       "      <th></th>\n",
       "      <th>fullname</th>\n",
       "      <th>po.noad</th>\n",
       "    </tr>\n",
       "  </thead>\n",
       "  <tbody>\n",
       "    <tr>\n",
       "      <th>0</th>\n",
       "      <td>Daenerys Targaryen</td>\n",
       "      <td>52</td>\n",
       "    </tr>\n",
       "    <tr>\n",
       "      <th>1</th>\n",
       "      <td>Jon Snow</td>\n",
       "      <td>54</td>\n",
       "    </tr>\n",
       "    <tr>\n",
       "      <th>2</th>\n",
       "      <td>Sandor Clegane</td>\n",
       "      <td>66</td>\n",
       "    </tr>\n",
       "    <tr>\n",
       "      <th>3</th>\n",
       "      <td>Tyrion Lannister</td>\n",
       "      <td>79</td>\n",
       "    </tr>\n",
       "    <tr>\n",
       "      <th>4</th>\n",
       "      <td>Cersei Lannister</td>\n",
       "      <td>68</td>\n",
       "    </tr>\n",
       "    <tr>\n",
       "      <th>5</th>\n",
       "      <td>Arya Stark</td>\n",
       "      <td>59</td>\n",
       "    </tr>\n",
       "    <tr>\n",
       "      <th>6</th>\n",
       "      <td>Sansa Stark</td>\n",
       "      <td>0</td>\n",
       "    </tr>\n",
       "    <tr>\n",
       "      <th>7</th>\n",
       "      <td>Joffrey Baratheon</td>\n",
       "      <td>74</td>\n",
       "    </tr>\n",
       "    <tr>\n",
       "      <th>8</th>\n",
       "      <td>Khal Drogo</td>\n",
       "      <td>0</td>\n",
       "    </tr>\n",
       "    <tr>\n",
       "      <th>9</th>\n",
       "      <td>Melisandre</td>\n",
       "      <td>70</td>\n",
       "    </tr>\n",
       "    <tr>\n",
       "      <th>10</th>\n",
       "      <td>Theon Greyjoy</td>\n",
       "      <td>69</td>\n",
       "    </tr>\n",
       "    <tr>\n",
       "      <th>11</th>\n",
       "      <td>Petyr Baelish</td>\n",
       "      <td>55</td>\n",
       "    </tr>\n",
       "    <tr>\n",
       "      <th>12</th>\n",
       "      <td>Bronn</td>\n",
       "      <td>0</td>\n",
       "    </tr>\n",
       "    <tr>\n",
       "      <th>13</th>\n",
       "      <td>Stannis Baratheon</td>\n",
       "      <td>79</td>\n",
       "    </tr>\n",
       "    <tr>\n",
       "      <th>14</th>\n",
       "      <td>Jorah Mormont</td>\n",
       "      <td>75</td>\n",
       "    </tr>\n",
       "    <tr>\n",
       "      <th>15</th>\n",
       "      <td>Rob Stark</td>\n",
       "      <td>66</td>\n",
       "    </tr>\n",
       "    <tr>\n",
       "      <th>16</th>\n",
       "      <td>Samwell Tarly</td>\n",
       "      <td>0</td>\n",
       "    </tr>\n",
       "    <tr>\n",
       "      <th>17</th>\n",
       "      <td>Davos Seaworth</td>\n",
       "      <td>77</td>\n",
       "    </tr>\n",
       "    <tr>\n",
       "      <th>18</th>\n",
       "      <td>Jamie Lannister</td>\n",
       "      <td>55</td>\n",
       "    </tr>\n",
       "    <tr>\n",
       "      <th>19</th>\n",
       "      <td>The Night King</td>\n",
       "      <td>65</td>\n",
       "    </tr>\n",
       "  </tbody>\n",
       "</table>\n",
       "</div>"
      ],
      "text/plain": [
       "              fullname  po.noad\n",
       "0   Daenerys Targaryen       52\n",
       "1             Jon Snow       54\n",
       "2       Sandor Clegane       66\n",
       "3     Tyrion Lannister       79\n",
       "4     Cersei Lannister       68\n",
       "5           Arya Stark       59\n",
       "6          Sansa Stark        0\n",
       "7    Joffrey Baratheon       74\n",
       "8           Khal Drogo        0\n",
       "9           Melisandre       70\n",
       "10       Theon Greyjoy       69\n",
       "11       Petyr Baelish       55\n",
       "12               Bronn        0\n",
       "13   Stannis Baratheon       79\n",
       "14       Jorah Mormont       75\n",
       "15           Rob Stark       66\n",
       "16       Samwell Tarly        0\n",
       "17      Davos Seaworth       77\n",
       "18     Jamie Lannister       55\n",
       "19      The Night King       65"
      ]
     },
     "execution_count": 1,
     "metadata": {},
     "output_type": "execute_result"
    }
   ],
   "source": [
    "import pandas as pd\n",
    "import numpy as np\n",
    "import random\n",
    "import matplotlib.pyplot as plt\n",
    "from scipy.stats import ttest_ind, norm\n",
    "\n",
    "# Load the data\n",
    "got_ads_data = pd.read_csv('ads_noads.csv')\n",
    "got_ads_data\n"
   ]
  },
  {
   "cell_type": "code",
   "execution_count": 8,
   "metadata": {},
   "outputs": [
    {
     "name": "stdout",
     "output_type": "stream",
     "text": [
      "The true ATE is 0.0\n"
     ]
    }
   ],
   "source": [
    "\n",
    "# Define the true effect\n",
    "true_effect = 0\n",
    "\n",
    "# Calculate the true Average Treatment Effect (ATE)\n",
    "got_ads_data['po.withad'] = got_ads_data['po.noad'] + true_effect\n",
    "\n",
    "true_ate = np.mean(got_ads_data['po.withad']) - np.mean(got_ads_data['po.noad'])\n",
    "\n",
    "print(\"The true ATE is\", true_ate)\n"
   ]
  },
  {
   "cell_type": "code",
   "execution_count": 9,
   "metadata": {},
   "outputs": [
    {
     "name": "stdout",
     "output_type": "stream",
     "text": [
      "Estimated ATE is 3.707070707070706\n"
     ]
    }
   ],
   "source": [
    "\n",
    "# Set the random seed\n",
    "np.random.seed(234)\n",
    "\n",
    "# Get the number of heroes (rows)\n",
    "num_people = len(got_ads_data)\n",
    "\n",
    "# Assign treatment randomly\n",
    "treatment = np.random.randint(2, size=num_people)\n",
    "\n",
    "# Fill in the outcomes according to randomized treatment status\n",
    "outcome = np.where(treatment == 1, got_ads_data['po.withad'], got_ads_data['po.noad'])\n",
    "\n",
    "# Calculate the estimated ATE\n",
    "ate_hat = np.mean(outcome[treatment == 1]) - np.mean(outcome[treatment == 0])\n",
    "print(\"Estimated ATE is\", ate_hat)\n"
   ]
  },
  {
   "cell_type": "code",
   "execution_count": 10,
   "metadata": {},
   "outputs": [
    {
     "data": {
      "image/png": "[encoded data removed]",
      "text/plain": [
       "<Figure size 640x480 with 1 Axes>"
      ]
     },
     "metadata": {},
     "output_type": "display_data"
    }
   ],
   "source": [
    "# Calculate the sampling distribution by replicating the randomization\n",
    "def rand_est_ate():\n",
    "    treatment = np.random.randint(2, size=num_people)\n",
    "    outcome = np.where(treatment == 1, got_ads_data['po.withad'], got_ads_data['po.noad'])\n",
    "    return np.mean(outcome[treatment == 1]) - np.mean(outcome[treatment == 0])\n",
    "\n",
    "sampling_distribution = [rand_est_ate() for _ in range(1000)]\n",
    "\n",
    "# Plot the sampling distribution\n",
    "plt.hist(sampling_distribution, bins=30, alpha=0.5)\n",
    "plt.axvline(x=true_effect, color='red', linestyle='--', label='True Effect')\n",
    "plt.xlabel('Estimate')\n",
    "plt.title('Sampling Distribution')\n",
    "plt.legend()\n",
    "plt.show()\n",
    "\n"
   ]
  },
  {
   "cell_type": "code",
   "execution_count": 25,
   "metadata": {},
   "outputs": [
    {
     "data": {
      "image/png": "[encoded data removed]",
      "text/plain": [
       "<Figure size 600x400 with 1 Axes>"
      ]
     },
     "metadata": {},
     "output_type": "display_data"
    }
   ],
   "source": [
    "import seaborn as sns\n",
    "\n",
    "# Create a histogram using Seaborn\n",
    "plt.figure(figsize=(6, 4))\n",
    "sns.histplot(sampling_distribution, bins=30, kde=True, color='blue', alpha=0.5)\n",
    "\n",
    "# Add a vertical dashed line for the true effect\n",
    "plt.axvline(x=true_effect, color='red', linestyle='--', label='True Effect')\n",
    "\n",
    "# Set axis labels and title\n",
    "plt.xlabel('Estimate')\n",
    "plt.ylabel('Frequency')\n",
    "plt.title('Sampling Distribution')\n",
    "\n",
    "# Add a legend\n",
    "plt.legend()\n",
    "\n",
    "# Show the plot\n",
    "plt.show()"
   ]
  },
  {
   "cell_type": "code",
   "execution_count": 11,
   "metadata": {},
   "outputs": [
    {
     "name": "stdout",
     "output_type": "stream",
     "text": [
      "The standard error is 13.168290499593077\n"
     ]
    }
   ],
   "source": [
    "# Calculate the standard error and 95% confidence interval\n",
    "se = np.std(sampling_distribution)\n",
    "print(\"The standard error is\", se)\n"
   ]
  },
  {
   "cell_type": "code",
   "execution_count": 12,
   "metadata": {},
   "outputs": [
    {
     "name": "stdout",
     "output_type": "stream",
     "text": [
      "95% Confidence Interval: (-25.300247797450847, 26.31945096095401)\n"
     ]
    }
   ],
   "source": [
    "\n",
    "avg_estimate = np.mean(sampling_distribution)\n",
    "conf_int = (avg_estimate - 1.96 * se, avg_estimate + 1.96 * se)\n",
    "print(\"95% Confidence Interval:\", conf_int)\n"
   ]
  },
  {
   "cell_type": "code",
   "execution_count": 13,
   "metadata": {},
   "outputs": [
    {
     "name": "stdout",
     "output_type": "stream",
     "text": [
      "The p-value is 0.795\n"
     ]
    }
   ],
   "source": [
    "\n",
    "# Calculate p-value\n",
    "p_value = np.mean(np.abs(sampling_distribution) > np.abs(ate_hat))\n",
    "print(\"The p-value is\", p_value)\n",
    "\n"
   ]
  },
  {
   "cell_type": "code",
   "execution_count": 17,
   "metadata": {},
   "outputs": [
    {
     "name": "stdout",
     "output_type": "stream",
     "text": [
      "Necessary sample size: 6041.0\n"
     ]
    }
   ],
   "source": [
    "# Statistical Power\n",
    "from statsmodels.stats.power import TTestPower\n",
    "\n",
    "true_effect = 1\n",
    "sd_outcome = .5*np.std(outcome)\n",
    "n = TTestPower().solve_power(effect_size = true_effect/sd_outcome,\n",
    "                            nobs = None, alpha = .05, power = 0.8, alternative='two-sided')\n",
    "\n",
    "print(f\"Necessary sample size: {np.ceil(n)}\")\n",
    "\n"
   ]
  },
  {
   "cell_type": "code",
   "execution_count": 20,
   "metadata": {},
   "outputs": [
    {
     "data": {
      "text/plain": [
       "0.7973702778273677"
      ]
     },
     "execution_count": 20,
     "metadata": {},
     "output_type": "execute_result"
    }
   ],
   "source": [
    "TTestPower().power(effect_size = true_effect / sd_outcome,\n",
    "                    alpha = .05, nobs = 6000, alternative='two-sided')"
   ]
  },
  {
   "cell_type": "code",
   "execution_count": 22,
   "metadata": {},
   "outputs": [
    {
     "data": {
      "text/plain": [
       "0.06267290291902869"
      ]
     },
     "execution_count": 22,
     "metadata": {},
     "output_type": "execute_result"
    }
   ],
   "source": [
    "TTestPower().solve_power(effect_size = None, \n",
    "                                         power = 0.8, \n",
    "                                         alpha = 0.05,\n",
    "                                         nobs = 2000)"
   ]
  },
  {
   "cell_type": "code",
   "execution_count": 3,
   "metadata": {},
   "outputs": [
    {
     "data": {
      "text/html": [
       "<div>\n",
       "<style scoped>\n",
       "    .dataframe tbody tr th:only-of-type {\n",
       "        vertical-align: middle;\n",
       "    }\n",
       "\n",
       "    .dataframe tbody tr th {\n",
       "        vertical-align: top;\n",
       "    }\n",
       "\n",
       "    .dataframe thead th {\n",
       "        text-align: right;\n",
       "    }\n",
       "</style>\n",
       "<table border=\"1\" class=\"dataframe\">\n",
       "  <thead>\n",
       "    <tr style=\"text-align: right;\">\n",
       "      <th></th>\n",
       "      <th>click_rate</th>\n",
       "    </tr>\n",
       "    <tr>\n",
       "      <th>location</th>\n",
       "      <th></th>\n",
       "    </tr>\n",
       "  </thead>\n",
       "  <tbody>\n",
       "    <tr>\n",
       "      <th>King’s Landing</th>\n",
       "      <td>1.00</td>\n",
       "    </tr>\n",
       "    <tr>\n",
       "      <th>Winterfell</th>\n",
       "      <td>0.75</td>\n",
       "    </tr>\n",
       "  </tbody>\n",
       "</table>\n",
       "</div>"
      ],
      "text/plain": [
       "                click_rate\n",
       "location                  \n",
       "King’s Landing        1.00\n",
       "Winterfell            0.75"
      ]
     },
     "execution_count": 3,
     "metadata": {},
     "output_type": "execute_result"
    }
   ],
   "source": [
    "# Scratch code:\n",
    "import pandas as pd\n",
    "\n",
    "ads_data = {\n",
    "    'fullname': ['Daenerys Targaryen', 'Jon Snow', 'Sandor Clegane', 'Tyrion Lannister', 'Cersei Lannister', 'Arya Stark', 'Sansa Stark'],\n",
    "    'sales ($)': [52, 54, 66, 79, 68, 59, 0],\n",
    "    'location': [\"King’s Landing\", \"Winterfell\", \"King’s Landing\", \"Winterfell\", \"King’s Landing\", \"Winterfell\", \"Winterfell\"],\n",
    "    'conversion': [1, 1, 1, 1, 1, 1, 0],\n",
    "    'num_items_purchased': [1, 5, 1, 2, 3, 2, 0],\n",
    "    'treatment': [0, 1, 1, 1, 1, 0, 0]\n",
    "}\n",
    "\n",
    "ads_data = pd.DataFrame(ads_data)\n",
    "ads_data.groupby('location').agg(click_rate=('conversion', 'mean'))\n",
    "\n"
   ]
  },
  {
   "cell_type": "code",
   "execution_count": 6,
   "metadata": {},
   "outputs": [
    {
     "data": {
      "text/html": [
       "<div>\n",
       "<style scoped>\n",
       "    .dataframe tbody tr th:only-of-type {\n",
       "        vertical-align: middle;\n",
       "    }\n",
       "\n",
       "    .dataframe tbody tr th {\n",
       "        vertical-align: top;\n",
       "    }\n",
       "\n",
       "    .dataframe thead th {\n",
       "        text-align: right;\n",
       "    }\n",
       "</style>\n",
       "<table border=\"1\" class=\"dataframe\">\n",
       "  <thead>\n",
       "    <tr style=\"text-align: right;\">\n",
       "      <th></th>\n",
       "      <th>fullname</th>\n",
       "      <th>sales ($)</th>\n",
       "      <th>location</th>\n",
       "      <th>conversion</th>\n",
       "      <th>num_items_purchased</th>\n",
       "      <th>treatment</th>\n",
       "      <th>avg_price_per_item</th>\n",
       "    </tr>\n",
       "  </thead>\n",
       "  <tbody>\n",
       "    <tr>\n",
       "      <th>0</th>\n",
       "      <td>Daenerys Targaryen</td>\n",
       "      <td>52</td>\n",
       "      <td>King’s Landing</td>\n",
       "      <td>1</td>\n",
       "      <td>1</td>\n",
       "      <td>0</td>\n",
       "      <td>52.000000</td>\n",
       "    </tr>\n",
       "    <tr>\n",
       "      <th>1</th>\n",
       "      <td>Jon Snow</td>\n",
       "      <td>54</td>\n",
       "      <td>Winterfell</td>\n",
       "      <td>1</td>\n",
       "      <td>5</td>\n",
       "      <td>1</td>\n",
       "      <td>10.800000</td>\n",
       "    </tr>\n",
       "    <tr>\n",
       "      <th>2</th>\n",
       "      <td>Sandor Clegane</td>\n",
       "      <td>66</td>\n",
       "      <td>King’s Landing</td>\n",
       "      <td>1</td>\n",
       "      <td>1</td>\n",
       "      <td>1</td>\n",
       "      <td>66.000000</td>\n",
       "    </tr>\n",
       "    <tr>\n",
       "      <th>3</th>\n",
       "      <td>Tyrion Lannister</td>\n",
       "      <td>79</td>\n",
       "      <td>Winterfell</td>\n",
       "      <td>1</td>\n",
       "      <td>2</td>\n",
       "      <td>1</td>\n",
       "      <td>39.500000</td>\n",
       "    </tr>\n",
       "    <tr>\n",
       "      <th>4</th>\n",
       "      <td>Cersei Lannister</td>\n",
       "      <td>68</td>\n",
       "      <td>King’s Landing</td>\n",
       "      <td>1</td>\n",
       "      <td>3</td>\n",
       "      <td>1</td>\n",
       "      <td>22.666667</td>\n",
       "    </tr>\n",
       "    <tr>\n",
       "      <th>5</th>\n",
       "      <td>Arya Stark</td>\n",
       "      <td>59</td>\n",
       "      <td>Winterfell</td>\n",
       "      <td>1</td>\n",
       "      <td>2</td>\n",
       "      <td>0</td>\n",
       "      <td>29.500000</td>\n",
       "    </tr>\n",
       "    <tr>\n",
       "      <th>6</th>\n",
       "      <td>Sansa Stark</td>\n",
       "      <td>0</td>\n",
       "      <td>Winterfell</td>\n",
       "      <td>0</td>\n",
       "      <td>0</td>\n",
       "      <td>0</td>\n",
       "      <td>NaN</td>\n",
       "    </tr>\n",
       "  </tbody>\n",
       "</table>\n",
       "</div>"
      ],
      "text/plain": [
       "             fullname  sales ($)        location  conversion  \\\n",
       "0  Daenerys Targaryen         52  King’s Landing           1   \n",
       "1            Jon Snow         54      Winterfell           1   \n",
       "2      Sandor Clegane         66  King’s Landing           1   \n",
       "3    Tyrion Lannister         79      Winterfell           1   \n",
       "4    Cersei Lannister         68  King’s Landing           1   \n",
       "5          Arya Stark         59      Winterfell           1   \n",
       "6         Sansa Stark          0      Winterfell           0   \n",
       "\n",
       "   num_items_purchased  treatment  avg_price_per_item  \n",
       "0                    1          0           52.000000  \n",
       "1                    5          1           10.800000  \n",
       "2                    1          1           66.000000  \n",
       "3                    2          1           39.500000  \n",
       "4                    3          1           22.666667  \n",
       "5                    2          0           29.500000  \n",
       "6                    0          0                 NaN  "
      ]
     },
     "execution_count": 6,
     "metadata": {},
     "output_type": "execute_result"
    }
   ],
   "source": [
    "ads_data['avg_price_per_item'] = ads_data['sales ($)'] / ads_data['num_items_purchased']\n",
    "ads_data"
   ]
  },
  {
   "cell_type": "code",
   "execution_count": 9,
   "metadata": {},
   "outputs": [
    {
     "data": {
      "text/plain": [
       "29.75"
      ]
     },
     "execution_count": 9,
     "metadata": {},
     "output_type": "execute_result"
    }
   ],
   "source": [
    "treatment_group_sales = ads_data[ads_data['treatment'] == 1]['sales ($)'].mean()\n",
    "control_group_sales = ads_data[ads_data['treatment'] == 0]['sales ($)'].mean()\n",
    "ate_on_sales = treatment_group_sales - control_group_sales\n",
    "ate_on_sales\n"
   ]
  },
  {
   "cell_type": "code",
   "execution_count": 19,
   "metadata": {},
   "outputs": [
    {
     "name": "stdout",
     "output_type": "stream",
     "text": [
      "                            OLS Regression Results                            \n",
      "==============================================================================\n",
      "Dep. Variable:                  sales   R-squared:                       0.915\n",
      "Model:                            OLS   Adj. R-squared:                  0.830\n",
      "Method:                 Least Squares   F-statistic:                     451.3\n",
      "Date:                Mon, 19 Feb 2024   Prob (F-statistic):           0.000176\n",
      "Time:                        09:05:05   Log-Likelihood:                -23.453\n",
      "No. Observations:                   7   AIC:                             54.91\n",
      "Df Residuals:                       3   BIC:                             54.69\n",
      "Df Model:                           3                                         \n",
      "Covariance Type:                  HC1                                         \n",
      "==========================================================================================\n",
      "                             coef    std err          z      P>|z|      [0.025      0.975]\n",
      "------------------------------------------------------------------------------------------\n",
      "Intercept                 -2.0000      9.295     -0.215      0.830     -20.218      16.218\n",
      "location[T.Winterfell]     2.0000      9.295      0.215      0.830     -16.218      20.218\n",
      "treatment                 11.2500      7.353      1.530      0.126      -3.162      25.662\n",
      "conversion                56.5000      5.375     10.512      0.000      45.965      67.035\n",
      "==============================================================================\n",
      "Omnibus:                          nan   Durbin-Watson:                   1.593\n",
      "Prob(Omnibus):                    nan   Jarque-Bera (JB):                0.320\n",
      "Skew:                          -0.506   Prob(JB):                        0.852\n",
      "Kurtosis:                       3.269   Cond. No.                         7.53\n",
      "==============================================================================\n",
      "\n",
      "Notes:\n",
      "[1] Standard Errors are heteroscedasticity robust (HC1)\n"
     ]
    },
    {
     "name": "stderr",
     "output_type": "stream",
     "text": [
      "/opt/homebrew/lib/python3.11/site-packages/statsmodels/stats/stattools.py:74: ValueWarning: omni_normtest is not valid with less than 8 observations; 7 samples were given.\n",
      "  warn(\"omni_normtest is not valid with less than 8 observations; %i \"\n"
     ]
    }
   ],
   "source": [
    "import statsmodels.formula.api as smf\n",
    "ads_data['sales'] = ads_data['sales ($)']\n",
    "\n",
    "# Define the model using formula notation\n",
    "model_formula = 'sales ~ treatment + conversion + location'\n",
    "\n",
    "# Fit the model\n",
    "model = smf.ols(formula=model_formula, data=ads_data).fit(cov_type='HC1')\n",
    "\n",
    "# Print the summary of the model with robust standard errors\n",
    "print(model.summary())\n"
   ]
  },
  {
   "cell_type": "code",
   "execution_count": null,
   "metadata": {},
   "outputs": [],
   "source": []
  }
 ],
 "metadata": {
  "kernelspec": {
   "display_name": "Python 3",
   "language": "python",
   "name": "python3"
  },
  "language_info": {
   "codemirror_mode": {
    "name": "ipython",
    "version": 3
   },
   "file_extension": ".py",
   "mimetype": "text/x-python",
   "name": "python",
   "nbconvert_exporter": "python",
   "pygments_lexer": "ipython3",
   "version": "3.11.4"
  }
 },
 "nbformat": 4,
 "nbformat_minor": 2
}
