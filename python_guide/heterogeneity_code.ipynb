{
 "cells": [
  {
   "cell_type": "code",
   "execution_count": 3,
   "metadata": {},
   "outputs": [],
   "source": [
    "# Necessary data cleaning, do not touch.\n",
    "from IPython.core.interactiveshell import InteractiveShell\n",
    "InteractiveShell.ast_node_interactivity = \"all\"\n",
    "\n",
    "# import modules and functions\n",
    "\n",
    "import numpy as np\n",
    "import pandas as pd\n",
    "import seaborn as sns\n",
    "sns.set(rc={'figure.figsize':(15, 8)})\n",
    "\n",
    "# read data\n",
    "\n",
    "tweets_data = pd.read_csv('tweetment_effect.csv')\n",
    "\n",
    "# Drop columns X.1, X, and V1\n",
    "tweets_data.drop(columns=['X.1', 'X'], inplace=True)\n",
    "\n",
    "# Rename the column 'treat.f' to 'treatment_arm'\n",
    "tweets_data.rename(columns={'treat.f': 'treatment_arm'}, inplace=True)\n",
    "\n",
    "# Drop the 'In_group' column\n",
    "tweets_data.drop(columns='In_group', inplace=True)\n",
    "\n",
    "# Drop the 'high_followers' column\n",
    "tweets_data.drop(columns='high_followers', inplace=True)\n",
    "\n",
    "# Create a new column 'any_treatment' as a numeric representation of 'treatment_arm != 0'\n",
    "tweets_data['any_treatment'] = (tweets_data['treatment_arm'] > 0).astype(int)\n",
    "\n",
    "# Drop the 'racism.scores.post.1wk' and 'racism.scores.post.2wk' columns\n",
    "tweets_data.drop(columns=['racism.scores.post.1wk', 'racism.scores.post.2wk'], inplace=True)\n",
    "\n",
    "# Convert 'treatment_arm' column to a factor\n",
    "tweets_data['treatment_arm'] = tweets_data['treatment_arm'].astype('category')\n",
    "tweets_data.columns = [col.replace(' ', '_').replace('.', '_').replace('-', '_') for col in tweets_data.columns]"
   ]
  },
  {
   "cell_type": "code",
   "execution_count": 35,
   "metadata": {},
   "outputs": [
    {
     "data": {
      "text/html": [
       "<table style=\"text-align:center\"><tr><td colspan=\"3\" style=\"border-bottom: 1px solid black\"></td></tr>\n",
       "<tr><td style=\"text-align:left\"></td><td colspan=\"2\"><em>Dependent variable: racism_scores_post_2mon</em></td></tr><tr><td style=\"text-align:left\"></td><tr><td style=\"text-align:left\"></td><td>(1)</td><td>(2)</td></tr>\n",
       "<tr><td colspan=\"3\" style=\"border-bottom: 1px solid black\"></td></tr>\n",
       "\n",
       "<tr><td style=\"text-align:left\">Intercept</td><td>0.252<sup>***</sup></td><td>0.104<sup>***</sup></td></tr>\n",
       "<tr><td style=\"text-align:left\"></td><td>(0.063)</td><td>(0.040)</td></tr>\n",
       "<tr><td style=\"text-align:left\">anonymity_binary</td><td></td><td>0.172<sup>**</sup></td></tr>\n",
       "<tr><td style=\"text-align:left\"></td><td></td><td>(0.083)</td></tr>\n",
       "<tr><td style=\"text-align:left\">any_treatment</td><td>-0.083<sup></sup></td><td>-0.006<sup></sup></td></tr>\n",
       "<tr><td style=\"text-align:left\"></td><td>(0.069)</td><td>(0.052)</td></tr>\n",
       "<tr><td style=\"text-align:left\">any_treatment:anonymity_binary</td><td></td><td>-0.092<sup></sup></td></tr>\n",
       "<tr><td style=\"text-align:left\"></td><td></td><td>(0.094)</td></tr>\n",
       "\n",
       "<td colspan=\"3\" style=\"border-bottom: 1px solid black\"></td></tr>\n",
       "<tr><td style=\"text-align: left\">Observations</td><td>243</td><td>243</td></tr><tr><td style=\"text-align: left\">R<sup>2</sup></td><td>0.008</td><td>0.016</td></tr><tr><td style=\"text-align: left\">Adjusted R<sup>2</sup></td><td>0.004</td><td>0.003</td></tr><tr><td style=\"text-align: left\">Residual Std. Error</td><td>0.386 (df=241)</td><td>0.386 (df=239)</td></tr><tr><td style=\"text-align: left\">F Statistic</td><td>1.454<sup></sup> (df=1; 241)</td><td>2.509<sup>*</sup> (df=3; 239)</td></tr>\n",
       "<tr><td colspan=\"3\" style=\"border-bottom: 1px solid black\"></td></tr><tr><td style=\"text-align: left\">Note:</td><td colspan=\"2\" style=\"text-align: right\"><sup>*</sup>p&lt;0.1; <sup>**</sup>p&lt;0.05; <sup>***</sup>p&lt;0.01</td></tr></table>"
      ],
      "text/plain": [
       "<stargazer.stargazer.Stargazer at 0x290cb2b10>"
      ]
     },
     "execution_count": 35,
     "metadata": {},
     "output_type": "execute_result"
    }
   ],
   "source": [
    "import statsmodels.api as sm\n",
    "from stargazer.stargazer import Stargazer\n",
    "\n",
    "tweets_data['anonymity_binary'] = (tweets_data['anonymity']!=0).astype(int)\n",
    "reg_robust = sm.OLS.from_formula('racism_scores_post_2mon ~ any_treatment', data = tweets_data).fit(cov_type='HC1')\n",
    "reg_robust_hetero = sm.OLS.from_formula('racism_scores_post_2mon ~ any_treatment*anonymity_binary', data = tweets_data).fit(cov_type='HC1')\n",
    "\n",
    "result = Stargazer([reg_robust, reg_robust_hetero])\n",
    "result"
   ]
  },
  {
   "cell_type": "code",
   "execution_count": 36,
   "metadata": {},
   "outputs": [
    {
     "data": {
      "text/html": [
       "<table style=\"text-align:center\"><tr><td colspan=\"3\" style=\"border-bottom: 1px solid black\"></td></tr>\n",
       "<tr><td style=\"text-align:left\"></td><td colspan=\"2\"><em>Dependent variable: Post-treatment Racism (2 months)</em></td></tr><tr><td style=\"text-align:left\"></td><td colspan=\"2\">OLS w/o controls</td></tr><tr><td style=\"text-align:left\"></td><td>(1)</td><td>(2)</td></tr>\n",
       "<tr><td colspan=\"3\" style=\"border-bottom: 1px solid black\"></td></tr>\n",
       "\n",
       "<tr><td style=\"text-align:left\">Treatment</td><td>-0.083<sup></sup></td><td>-0.006<sup></sup></td></tr>\n",
       "<tr><td style=\"text-align:left\"></td><td>(0.069)</td><td>(0.052)</td></tr>\n",
       "<tr><td style=\"text-align:left\">Anonymity</td><td></td><td>0.172<sup>**</sup></td></tr>\n",
       "<tr><td style=\"text-align:left\"></td><td></td><td>(0.083)</td></tr>\n",
       "<tr><td style=\"text-align:left\">Treatment*Anonymity</td><td></td><td>-0.092<sup></sup></td></tr>\n",
       "<tr><td style=\"text-align:left\"></td><td></td><td>(0.094)</td></tr>\n",
       "<tr><td style=\"text-align:left\">Constant</td><td>0.252<sup>***</sup></td><td>0.104<sup>***</sup></td></tr>\n",
       "<tr><td style=\"text-align:left\"></td><td>(0.063)</td><td>(0.040)</td></tr>\n",
       "\n",
       "<td colspan=\"3\" style=\"border-bottom: 1px solid black\"></td></tr>\n",
       "<tr><td style=\"text-align: left\">Observations</td><td>243</td><td>243</td></tr><tr><td style=\"text-align: left\">R<sup>2</sup></td><td>0.008</td><td>0.016</td></tr>\n",
       "<tr><td colspan=\"3\" style=\"border-bottom: 1px solid black\"></td></tr><tr><td style=\"text-align: left\">Note:</td><td colspan=\"2\" style=\"text-align: right\"><sup>*</sup>p&lt;0.1; <sup>**</sup>p&lt;0.05; <sup>***</sup>p&lt;0.01</td></tr></table>"
      ],
      "text/plain": [
       "<stargazer.stargazer.Stargazer at 0x290cb2b10>"
      ]
     },
     "execution_count": 36,
     "metadata": {},
     "output_type": "execute_result"
    }
   ],
   "source": [
    "# Clean up the table to make it look nice:\n",
    "\n",
    "result.dependent_variable_name('Post-treatment Racism (2 months)')\n",
    "result.custom_columns('OLS w/o controls')\n",
    "#result.show_confidence_intervals(True)\n",
    "result.rename_covariates({'Intercept': 'Constant', 'any_treatment':'Treatment', 'anonymity_binary': 'Anonymity', 'any_treatment:anonymity_binary': 'Treatment*Anonymity'})\n",
    "result.covariate_order(['any_treatment', 'anonymity_binary', 'any_treatment:anonymity_binary', 'Intercept' ])\n",
    "result.show_degrees_of_freedom(False)\n",
    "result.show_adj_r2 = False\n",
    "result.show_f_statistic = False\n",
    "result.show_residual_std_err = False\n",
    "result"
   ]
  },
  {
   "cell_type": "code",
   "execution_count": 45,
   "metadata": {},
   "outputs": [
    {
     "data": {
      "text/html": [
       "<table style=\"text-align:center\"><tr><td colspan=\"2\" style=\"border-bottom: 1px solid black\"></td></tr>\n",
       "<tr><td style=\"text-align:left\"></td><td colspan=\"1\"><em>Dependent variable: Racism (2 months after)</em></td></tr><tr><td style=\"text-align:left\"></td><td colspan=\"1\"></td></tr><tr><td style=\"text-align:left\"></td><td>(1)</td></tr>\n",
       "<tr><td colspan=\"2\" style=\"border-bottom: 1px solid black\"></td></tr>\n",
       "\n",
       "<tr><td style=\"text-align:left\">Treatment</td><td>-0.014<sup></sup></td></tr>\n",
       "<tr><td style=\"text-align:left\"></td><td>(0.041)</td></tr>\n",
       "<tr><td style=\"text-align:left\">Prior Racism</td><td>0.715<sup>***</sup></td></tr>\n",
       "<tr><td style=\"text-align:left\"></td><td>(0.135)</td></tr>\n",
       "<tr><td style=\"text-align:left\">Treatment*Prior Racism</td><td>0.309<sup></sup></td></tr>\n",
       "<tr><td style=\"text-align:left\"></td><td>(0.440)</td></tr>\n",
       "<tr><td style=\"text-align:left\">Constant</td><td>0.089<sup>***</sup></td></tr>\n",
       "<tr><td style=\"text-align:left\"></td><td>(0.032)</td></tr>\n",
       "\n",
       "<td colspan=\"2\" style=\"border-bottom: 1px solid black\"></td></tr>\n",
       "<tr><td style=\"text-align: left\">Observations</td><td>242</td></tr><tr><td style=\"text-align: left\">R<sup>2</sup></td><td>0.282</td></tr>\n",
       "<tr><td colspan=\"2\" style=\"border-bottom: 1px solid black\"></td></tr><tr><td style=\"text-align: left\">Note:</td><td colspan=\"1\" style=\"text-align: right\"><sup>*</sup>p&lt;0.1; <sup>**</sup>p&lt;0.05; <sup>***</sup>p&lt;0.01</td></tr></table>"
      ],
      "text/plain": [
       "<stargazer.stargazer.Stargazer at 0x290c1d7d0>"
      ]
     },
     "execution_count": 45,
     "metadata": {},
     "output_type": "execute_result"
    }
   ],
   "source": [
    "reg_robust = sm.OLS.from_formula('racism_scores_post_2mon ~ any_treatment', data = tweets_data).fit(cov_type='HC1')\n",
    "reg_robust_hetero_preracism = sm.OLS.from_formula('racism_scores_post_2mon ~ any_treatment*racism_scores_pre_2mon', data = tweets_data).fit(cov_type='HC1')\n",
    "\n",
    "result = Stargazer([reg_robust_hetero_preracism])\n",
    "\n",
    "result.dependent_variable_name('Racism (2 months after)')\n",
    "result.custom_columns('')\n",
    "#result.show_confidence_intervals(True)\n",
    "result.rename_covariates({'Intercept': 'Constant', 'any_treatment':'Treatment', 'racism_scores_pre_2mon': 'Prior Racism', 'any_treatment:racism_scores_pre_2mon': 'Treatment*Prior Racism'})\n",
    "result.covariate_order(['any_treatment', 'racism_scores_pre_2mon', 'any_treatment:racism_scores_pre_2mon', 'Intercept' ])\n",
    "result.show_degrees_of_freedom(False)\n",
    "result.show_adj_r2 = False\n",
    "result.show_f_statistic = False\n",
    "result.show_residual_std_err = False\n",
    "result"
   ]
  }
 ],
 "metadata": {
  "kernelspec": {
   "display_name": "Python 3",
   "language": "python",
   "name": "python3"
  },
  "language_info": {
   "codemirror_mode": {
    "name": "ipython",
    "version": 3
   },
   "file_extension": ".py",
   "mimetype": "text/x-python",
   "name": "python",
   "nbconvert_exporter": "python",
   "pygments_lexer": "ipython3",
   "version": "3.11.4"
  }
 },
 "nbformat": 4,
 "nbformat_minor": 2
}
